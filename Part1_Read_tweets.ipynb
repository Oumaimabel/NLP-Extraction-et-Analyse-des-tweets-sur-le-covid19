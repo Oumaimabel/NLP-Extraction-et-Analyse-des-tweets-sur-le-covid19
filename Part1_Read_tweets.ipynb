{
 "cells": [
  {
   "cell_type": "markdown",
   "id": "b9e10cae",
   "metadata": {},
   "source": [
    "# Partie 1: Spark Streaming &amp; API Twitter ( covid19 ) : "
   ]
  },
  {
   "cell_type": "code",
   "execution_count": 1,
   "id": "38411c79-605a-4d51-9bc7-956fdb5b2d2b",
   "metadata": {},
   "outputs": [],
   "source": [
    "# localiser Spark sur notre machine locale à l'aide de la bibliothèque findspark,\n",
    "import findspark\n",
    "findspark.init()\n",
    "import pyspark"
   ]
  },
  {
   "cell_type": "code",
   "execution_count": 2,
   "id": "4578b001-172c-4e6c-85ab-8c69863e649a",
   "metadata": {},
   "outputs": [],
   "source": [
    "# import necessary packages\n",
    "from pyspark import SparkContext   # SparkContext est le point d'entrée de toute fonctionnalité de spark.\n",
    "from pyspark.streaming import StreamingContext # pour traiter des flux de données qui arrivent en continu\n",
    "from pyspark.sql import SQLContext\n",
    "from pyspark.sql.functions import desc"
   ]
  },
  {
   "cell_type": "code",
   "execution_count": 3,
   "id": "8cabda1c-bba7-4933-92ec-3c68b807b190",
   "metadata": {},
   "outputs": [],
   "source": [
    "# SparkContext est le point d'entrée pour toutes les fonctions Spark\n",
    "sc = SparkContext()\n",
    "# we initiate the StreamingContext with 10 second batch interval. #next we initiate our sqlcontext\n",
    "ssc = StreamingContext(sc, 10) \n",
    "sqlContext = SQLContext(sc)"
   ]
  },
  {
   "cell_type": "code",
   "execution_count": 4,
   "id": "c891fc41-f01b-42cc-818e-2adf698db7d5",
   "metadata": {},
   "outputs": [],
   "source": [
    "# initiate streaming text from a TCP (socket) source:\n",
    "socket_stream = ssc.socketTextStream(\"192.168.1.102\", 5555)\n",
    "# lines of tweets with socket_stream window of size 60, or 60 #seconds windows of time\n",
    "lines = socket_stream.window(60) "
   ]
  },
  {
   "cell_type": "markdown",
   "id": "e13674a8-ffbc-4b15-aef9-220748beb8dc",
   "metadata": {},
   "source": [
    "Pour enregistrer le nombre de balises, nous avons créé un objet namedtuple. Ensuite, nous avons utilisé flatmap() pour générer un tableau de tweets. Nous utilisons des fonctions lambda car elles nécessitent moins de mémoire et s'exécutent plus rapidement. Nous filtrons ensuite les tweets qui ne commencent pas par #. La fonction foreachRDD() dans pySpark est une fonction importante qui permet un traitement plus rapide des RDD. Il est appliqué à chaque RDD pour le convertir en une trame de données et est ensuite stocké dans une table temporaire intitulée « tweets »."
   ]
  },
  {
   "cell_type": "code",
   "execution_count": 5,
   "id": "4bfb6a5f-98ed-428f-97a7-da4802bf6b9c",
   "metadata": {},
   "outputs": [],
   "source": [
    "# nettoyé les tweets qui commencent par # et enregistrer les 10 premiers tweets dans une table SQL temporaire\n",
    "from collections import namedtuple\n",
    "fields = (\"hashtag\", \"count\" )\n",
    "Tweet = namedtuple( 'Tweet', fields )\n",
    "# here we apply different operations on the tweets and save them to #a temporary sql table\n",
    "( lines.flatMap( lambda text: text.split( \" \" ) ) #Splits to a list\n",
    "  # Checks for    hashtag calls \n",
    "  .filter( lambda word: word.lower().startswith(\"#\") ) \n",
    "  .map( lambda word: ( word.lower(), 1 ) ) # Lower cases the word\n",
    "  .reduceByKey( lambda a, b: a + b ) # toutes les valeurs de la même clé seront additionnées\n",
    "  .map( lambda rec: Tweet( rec[0], rec[1] ) ) # stockage dans un tweet object\n",
    "  .foreachRDD( lambda rdd: rdd.toDF().sort( desc(\"count\") ) # Trier le tweet Object\n",
    "  .limit(10).registerTempTable(\"tweets\") ) ) # Enregistrer seulement 10 hashtags dans une table SQL temporaire"
   ]
  },
  {
   "cell_type": "code",
   "execution_count": 6,
   "id": "834d8e75-6432-4b18-a9cf-3658eb8b6c4b",
   "metadata": {},
   "outputs": [],
   "source": [
    "# start streaming and wait couple of minutes to get enought tweets\n",
    "ssc.start()"
   ]
  },
  {
   "cell_type": "markdown",
   "id": "bc5ca026-6e71-472c-8470-f1d2b99e7337",
   "metadata": {},
   "source": [
    "### Affichage de la table temporaire SQL : tweets"
   ]
  },
  {
   "cell_type": "code",
   "execution_count": 7,
   "id": "0f0feb85-c83d-4cd0-b062-362824b21d48",
   "metadata": {},
   "outputs": [
    {
     "data": {
      "text/plain": [
       "DataFrame[hashtag: string, count: bigint]"
      ]
     },
     "execution_count": 7,
     "metadata": {},
     "output_type": "execute_result"
    }
   ],
   "source": [
    "sqlContext.sql(\"SELECT * FROM tweets\")"
   ]
  },
  {
   "cell_type": "code",
   "execution_count": 8,
   "id": "90ccb694-06f8-4043-b119-1b604c4fa8d5",
   "metadata": {},
   "outputs": [
    {
     "name": "stdout",
     "output_type": "stream",
     "text": [
      "+---------------+-----+\n",
      "|        hashtag|count|\n",
      "+---------------+-----+\n",
      "|       #covid19|   34|\n",
      "|    #sbte_bihar|    6|\n",
      "|     #mammootty|    5|\n",
      "|      #covid19.|    2|\n",
      "|        #cov…rt|    2|\n",
      "|        #corona|    2|\n",
      "|       #omicron|    2|\n",
      "|#neuinfektionen|    2|\n",
      "|      #covid_19|    2|\n",
      "|#borisjohnson's|    2|\n",
      "+---------------+-----+\n",
      "\n"
     ]
    }
   ],
   "source": [
    "sqlContext.sql(\"SELECT * FROM tweets\").show()"
   ]
  },
  {
   "cell_type": "markdown",
   "id": "44e3ac52-11ee-4326-96ac-67b693b3682d",
   "metadata": {
    "tags": []
   },
   "source": [
    "### Tracer des informations en temps réel sur un graphique à partir de la table temporaire enregistrée dans spark tweets des 10 principaux #tags pertinents pour le thème du « covid19 ». \n",
    "\n",
    "Ce tableau sera mis à jour toutes les 5 secondes avec une nouvelle analyse des tweets."
   ]
  },
  {
   "cell_type": "code",
   "execution_count": 9,
   "id": "bf874695-1e18-4a89-8a15-09d1c52e7a6b",
   "metadata": {},
   "outputs": [
    {
     "data": {
      "image/png": "[encoded data removed]",
      "text/plain": [
       "<Figure size 720x576 with 1 Axes>"
      ]
     },
     "metadata": {
      "needs_background": "light"
     },
     "output_type": "display_data"
    },
    {
     "name": "stdout",
     "output_type": "stream",
     "text": [
      "5\n"
     ]
    }
   ],
   "source": [
    "# import libraries to visualize the results\n",
    "import time\n",
    "from IPython import display\n",
    "import matplotlib.pyplot as plt\n",
    "import seaborn as sns\n",
    "import pandas\n",
    "get_ipython().run_line_magic('matplotlib', 'inline')\n",
    "count = 0\n",
    "while count < 5:\n",
    "    \n",
    "    time.sleep(5)\n",
    "    top_10_tags = sqlContext.sql( 'Select hashtag, count from tweets' )\n",
    "    top_10_df = top_10_tags.toPandas()\n",
    "    display.clear_output(wait=True)\n",
    "    plt.figure( figsize = ( 10, 8 ) )\n",
    "    sns.barplot( x=\"count\", y=\"hashtag\", data=top_10_df)\n",
    "    plt.show()\n",
    "    count = count + 1\n",
    "    print(count)"
   ]
  }
 ],
 "metadata": {
  "kernelspec": {
   "display_name": "Python 3 (ipykernel)",
   "language": "python",
   "name": "python3"
  },
  "language_info": {
   "codemirror_mode": {
    "name": "ipython",
    "version": 3
   },
   "file_extension": ".py",
   "mimetype": "text/x-python",
   "name": "python",
   "nbconvert_exporter": "python",
   "pygments_lexer": "ipython3",
   "version": "3.8.8"
  }
 },
 "nbformat": 4,
 "nbformat_minor": 5
}
